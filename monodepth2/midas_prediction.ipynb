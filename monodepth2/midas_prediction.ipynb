{
 "cells": [
  {
   "cell_type": "code",
   "execution_count": 19,
   "id": "71dc5e27",
   "metadata": {},
   "outputs": [],
   "source": [
    "import os\n",
    "import cv2\n",
    "import torch\n",
    "import numpy as np\n",
    "import matplotlib.pyplot as plt"
   ]
  },
  {
   "cell_type": "code",
   "execution_count": 2,
   "id": "01b1470a",
   "metadata": {},
   "outputs": [
    {
     "name": "stderr",
     "output_type": "stream",
     "text": [
      "Downloading: \"https://github.com/intel-isl/MiDaS/archive/master.zip\" to /home/shantanusingh/.cache/torch/hub/master.zip\n"
     ]
    },
    {
     "name": "stdout",
     "output_type": "stream",
     "text": [
      "Loading weights:  None\n"
     ]
    },
    {
     "name": "stderr",
     "output_type": "stream",
     "text": [
      "Downloading: \"https://github.com/facebookresearch/WSL-Images/archive/master.zip\" to /home/shantanusingh/.cache/torch/hub/master.zip\n",
      "Downloading: \"https://download.pytorch.org/models/ig_resnext101_32x8-c38310e5.pth\" to /home/shantanusingh/.cache/torch/hub/checkpoints/ig_resnext101_32x8-c38310e5.pth\n"
     ]
    },
    {
     "data": {
      "application/vnd.jupyter.widget-view+json": {
       "model_id": "9b3dd68f00764aef8f113b79008e51ab",
       "version_major": 2,
       "version_minor": 0
      },
      "text/plain": [
       "HBox(children=(HTML(value=''), FloatProgress(value=0.0, max=356056638.0), HTML(value='')))"
      ]
     },
     "metadata": {},
     "output_type": "display_data"
    },
    {
     "name": "stdout",
     "output_type": "stream",
     "text": [
      "\n"
     ]
    },
    {
     "name": "stderr",
     "output_type": "stream",
     "text": [
      "Downloading: \"https://github.com/intel-isl/MiDaS/releases/download/v2_1/model-f6b98070.pt\" to /home/shantanusingh/.cache/torch/hub/checkpoints/model-f6b98070.pt\n"
     ]
    },
    {
     "data": {
      "application/vnd.jupyter.widget-view+json": {
       "model_id": "2885fd67ae9048faa4aa70b12fe8daf8",
       "version_major": 2,
       "version_minor": 0
      },
      "text/plain": [
       "HBox(children=(HTML(value=''), FloatProgress(value=0.0, max=422509849.0), HTML(value='')))"
      ]
     },
     "metadata": {},
     "output_type": "display_data"
    },
    {
     "name": "stdout",
     "output_type": "stream",
     "text": [
      "\n"
     ]
    }
   ],
   "source": [
    "use_large_model = True\n",
    "\n",
    "if use_large_model:\n",
    "    midas = torch.hub.load(\"intel-isl/MiDaS\", \"MiDaS\")\n",
    "else:\n",
    "    midas = torch.hub.load(\"intel-isl/MiDaS\", \"MiDaS_small\")"
   ]
  },
  {
   "cell_type": "code",
   "execution_count": 4,
   "id": "8e1b6e56",
   "metadata": {},
   "outputs": [],
   "source": [
    "device = torch.device(\"cuda\") if torch.cuda.is_available() else torch.device(\"cpu\")\n",
    "midas.to(device)\n",
    "midas.eval();"
   ]
  },
  {
   "cell_type": "code",
   "execution_count": 5,
   "id": "71136255",
   "metadata": {},
   "outputs": [
    {
     "name": "stderr",
     "output_type": "stream",
     "text": [
      "Using cache found in /home/shantanusingh/.cache/torch/hub/intel-isl_MiDaS_master\n"
     ]
    }
   ],
   "source": [
    "midas_transforms = torch.hub.load(\"intel-isl/MiDaS\", \"transforms\")\n",
    "\n",
    "if use_large_model:\n",
    "    transform = midas_transforms.default_transform\n",
    "else:\n",
    "    transform = midas_transforms.small_transform"
   ]
  },
  {
   "cell_type": "code",
   "execution_count": 23,
   "id": "0734ffba",
   "metadata": {},
   "outputs": [],
   "source": [
    "with open('/scratch/shantanu/project-eragon/monodepth2/splits/scannet/eval_files.txt', 'r') as f:\n",
    "    filenames = f.read().splitlines()\n",
    "    \n",
    "    \n",
    "data_dir = '/scratch/shantanu/scannet_data/imgs'\n",
    "save_dir = '/scratch/shantanu/project-eragon/monodepth2/models/midas/predictions'\n",
    "os.makedirs(save_dir, exist_ok=True)\n",
    "\n",
    "with torch.no_grad():\n",
    "    for row in filenames:\n",
    "        folder, filename = row.split(' ')\n",
    "        img = cv2.imread(os.path.join(data_dir, folder, filename + '.png'))\n",
    "        img = cv2.cvtColor(img, cv2.COLOR_BGR2RGB)\n",
    "\n",
    "        input_batch = transform(img).to(device)\n",
    "        \n",
    "        prediction = midas(input_batch)\n",
    "\n",
    "        prediction = torch.nn.functional.interpolate(\n",
    "            prediction.unsqueeze(1),\n",
    "            size=img.shape[:2],\n",
    "            mode=\"bicubic\",\n",
    "            align_corners=False,\n",
    "        ).squeeze()\n",
    "\n",
    "        output = prediction.cpu().numpy().astype(np.float32)\n",
    "        \n",
    "        os.makedirs(os.path.join(save_dir, folder), exist_ok=True)\n",
    "        np.save(os.path.join(save_dir, folder, filename + '.npy'), output)"
   ]
  },
  {
   "cell_type": "code",
   "execution_count": null,
   "id": "83283c4b",
   "metadata": {},
   "outputs": [],
   "source": []
  }
 ],
 "metadata": {
  "kernelspec": {
   "display_name": "Python 3",
   "language": "python",
   "name": "python3"
  },
  "language_info": {
   "codemirror_mode": {
    "name": "ipython",
    "version": 3
   },
   "file_extension": ".py",
   "mimetype": "text/x-python",
   "name": "python",
   "nbconvert_exporter": "python",
   "pygments_lexer": "ipython3",
   "version": "3.7.5"
  }
 },
 "nbformat": 4,
 "nbformat_minor": 5
}
